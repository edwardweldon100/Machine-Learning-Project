{
 "cells": [
  {
   "cell_type": "code",
   "execution_count": 2,
   "id": "f313b7e6-9b39-40c3-a050-52b42b31d50c",
   "metadata": {},
   "outputs": [],
   "source": [
    "import numpy as np\n",
    "import pandas as pd\n",
    "from matplotlib import pyplot as plt\n",
    "from matplotlib.lines import Line2D\n",
    "from mpl_toolkits.mplot3d import Axes3D\n",
    "import matplotlib.ticker as mtick\n",
    "plt.style.use('ggplot')\n",
    "import seaborn as sns\n",
    "pd.options.display.float_format = '{:,.0f}'.format\n",
    "import dataframe_image as dfi\n",
    "from scipy import stats\n",
    "import statsmodels.api as sm\n",
    "from sklearn.linear_model import LinearRegression, Ridge, RidgeCV, Lasso, LassoCV, ElasticNet, ElasticNetCV\n",
    "lm = LinearRegression()\n",
    "from sklearn.pipeline import Pipeline\n",
    "from sklearn.compose import ColumnTransformer\n",
    "from sklearn.feature_selection import SequentialFeatureSelector\n",
    "from sklearn.model_selection import train_test_split, KFold, cross_val_score, GridSearchCV\n",
    "from sklearn.preprocessing import OneHotEncoder, StandardScaler\n",
    "encoder = OneHotEncoder(sparse_output=False)\n",
    "from sklearn.exceptions import ConvergenceWarning\n",
    "import warnings\n",
    "warnings.filterwarnings(\"ignore\", category=ConvergenceWarning)\n",
    "warnings.filterwarnings(\"ignore\", category=UserWarning)"
   ]
  },
  {
   "cell_type": "code",
   "execution_count": 3,
   "id": "06dd0f69-baba-42e3-8200-6b53f5c2ad9f",
   "metadata": {},
   "outputs": [],
   "source": [
    "#Import Imputeed Ames Data\n",
    "Ames = pd.read_csv('Ames_HousePrice_Imputed.csv')\n",
    "\n",
    "#Update with new Ames Data\n",
    "Ames_Columns_Numeric = Ames[[\n",
    "    '1stFlrSF', '2ndFlrSF', '3SsnPorch', 'BedroomAbvGr', 'BsmtFinSF1', 'BsmtFinSF2',\n",
    "    'BsmtFullBath', 'BsmtHalfBath', 'BsmtUnfSF', 'EnclosedPorch', 'Fireplaces', 'FullBath',\n",
    "    'GarageArea', 'GarageCars', 'GarageYrBlt', 'GrLivArea', 'HalfBath', 'KitchenAbvGr',\n",
    "    'LotArea', 'LotFrontage', 'LowQualFinSF', 'MasVnrArea', 'MiscVal', 'MoSold',\n",
    "    'OpenPorchSF', 'PoolArea', 'ScreenPorch', 'TotalBsmtSF', 'TotRmsAbvGrd', 'WoodDeckSF',\n",
    "    'YearBuilt', 'YearRemodAdd', 'YrSold'\n",
    "]]\n",
    "Ames_Columns_Ordinal = Ames[[ \n",
    "    'BsmtCond', 'BsmtExposure', 'BsmtFinType1', 'BsmtFinType2', 'BsmtQual',\n",
    "    'Electrical', 'ExterCond', 'ExterQual', 'Fence', 'FireplaceQu', 'Functional',\n",
    "    'GarageCond', 'GarageFinish', 'GarageQual', 'HeatingQC', 'KitchenQual',\n",
    "    'LandSlope', 'LotShape', 'OverallCond', 'OverallQual', 'PavedDrive',\n",
    "    'PoolQC', 'Utilities'\n",
    "]]\n",
    "Ames_Columns_Nominal = Ames[[ \n",
    "    'Alley', 'BldgType', 'CentralAir', 'Condition1', 'Condition2',\n",
    "    'Exterior1st', 'Exterior2nd', 'Foundation', 'GarageType', 'Heating',\n",
    "    'HouseStyle', 'LandContour', 'LotConfig', 'MasVnrType', 'MiscFeature',\n",
    "    'MSSubClass', 'MSZoning', 'Neighborhood', 'RoofMatl', 'RoofStyle',\n",
    "    'SaleCondition', 'SaleType', 'Street'\n",
    "]].astype(str)\n",
    "\n",
    "#Combination Table of Numeric & Ordinal Columns\n",
    "Ames_Columns_Numeric_Ordinal = Ames[\n",
    "    list(Ames_Columns_Numeric.columns) + list(Ames_Columns_Ordinal.columns)\n",
    "]\n",
    "#Combination Table of Nominal & Ordinal Columns\n",
    "Ames_Columns_Nominal_Ordinal = Ames[\n",
    "    list(Ames_Columns_Nominal.columns) + list(Ames_Columns_Ordinal.columns)\n",
    "]"
   ]
  },
  {
   "cell_type": "code",
   "execution_count": 4,
   "id": "c80ea0db-16a9-45bf-983a-6ed7cb468bf9",
   "metadata": {},
   "outputs": [],
   "source": [
    "Y = Ames['SalePrice']\n",
    "lm = LinearRegression()\n",
    "encoder = OneHotEncoder(drop='first', sparse_output=False)"
   ]
  },
  {
   "cell_type": "code",
   "execution_count": 5,
   "id": "9afd7e04-2adc-4417-8e88-4343c81d3da7",
   "metadata": {},
   "outputs": [],
   "source": [
    "encoder_nominal = OneHotEncoder(drop='first', sparse_output=False)\n",
    "encoder_ordinal = OneHotEncoder(drop='first', sparse_output=False)\n",
    "Nominal_cols = Ames_Columns_Nominal.columns\n",
    "Ordinal_cols = Ames_Columns_Ordinal.columns\n",
    "Numeric_cols = Ames_Columns_Numeric.columns\n",
    "\n",
    "# --- One-Hot Encode Nominal ---\n",
    "Ames_Optimal_Nominal_One_Hot = encoder_nominal.fit_transform(Ames[Nominal_cols])\n",
    "Ames_Optimal_Nominal_One_Hot_df = pd.DataFrame(\n",
    "    Ames_Optimal_Nominal_One_Hot,\n",
    "    columns=encoder_nominal.get_feature_names_out(Nominal_cols),\n",
    "    index=Ames.index\n",
    ")\n",
    "#One-Hot Encode Ordinal\n",
    "Ames_Optimal_Ordinal_One_Hot = encoder_ordinal.fit_transform(Ames[Ordinal_cols])\n",
    "Ames_Optimal_Ordinal_One_Hot_df = pd.DataFrame(\n",
    "    Ames_Optimal_Ordinal_One_Hot,\n",
    "    columns=encoder_ordinal.get_feature_names_out(Ordinal_cols),\n",
    "    index=Ames.index\n",
    ")\n",
    "\n",
    "#Merge Nominal & Ordinal Encodings\n",
    "Ames_Optimal_Categorical_One_Hot = pd.merge(\n",
    "    Ames_Optimal_Nominal_One_Hot_df,\n",
    "    Ames_Optimal_Ordinal_One_Hot_df,\n",
    "    left_index=True,\n",
    "    right_index=True,\n",
    "    how='left'\n",
    ")\n",
    "#Merge with Numeric Features\n",
    "Ames_MLR_Optimal_Columns = pd.merge(\n",
    "    Ames[Numeric_cols],\n",
    "    Ames_Optimal_Categorical_One_Hot,\n",
    "    left_index=True,\n",
    "    right_index=True,\n",
    "    how='left'\n",
    ")"
   ]
  },
  {
   "cell_type": "code",
   "execution_count": 6,
   "id": "1e7a8e8a-3d7d-4ca4-8de9-f0a31d5f5587",
   "metadata": {},
   "outputs": [],
   "source": [
    "scaler_Y = StandardScaler()\n",
    "scaler_X = StandardScaler()\n",
    "Y_scaled = Y  #scaler_Y.fit_transform(Y.values.reshape(-1, 1)).flatten()\n",
    "X_scaled = pd.DataFrame(\n",
    "    scaler_X.fit_transform(Ames_MLR_Optimal_Columns),\n",
    "    columns=Ames_MLR_Optimal_Columns.columns,\n",
    "    index=Ames.index\n",
    ")\n",
    "#X_scaled = pd.concat([X_numeric_scaled, Ames_Optimal_Categorical_One_Hot], axis=1)"
   ]
  },
  {
   "cell_type": "code",
   "execution_count": 7,
   "id": "a30707df-73f4-46ed-9dde-03af31b478eb",
   "metadata": {},
   "outputs": [
    {
     "name": "stdout",
     "output_type": "stream",
     "text": [
      "Pipeline Cross_Val_Score Results (alpha=1)\n"
     ]
    },
    {
     "data": {
      "text/plain": [
       "{'Ridge': {'mean_R2': 0.8955,\n",
       "  'fold_R2': [0.8993, 0.926, 0.8076, 0.9217, 0.9227]},\n",
       " 'Lasso': {'mean_R2': 0.8972,\n",
       "  'fold_R2': [0.8985, 0.9265, 0.8156, 0.9218, 0.9237]},\n",
       " 'ElasticNet': {'mean_R2': 0.8994,\n",
       "  'fold_R2': [0.8928, 0.92, 0.8519, 0.9115, 0.9206]}}"
      ]
     },
     "execution_count": 7,
     "metadata": {},
     "output_type": "execute_result"
    }
   ],
   "source": [
    "kf = KFold(n_splits=5, shuffle=True, random_state=2)\n",
    "pipelines = {\n",
    "    'Ridge': Pipeline(steps=[('regressor', Ridge())]),\n",
    "    'Lasso': Pipeline(steps=[('regressor', Lasso(max_iter=100))]),\n",
    "    'ElasticNet': Pipeline(steps=[('regressor', ElasticNet(max_iter=100))])\n",
    "}\n",
    "cv_results = {}\n",
    "for name, pipeline in pipelines.items():\n",
    "    scores = cross_val_score(pipeline, X_scaled, Y_scaled, cv=kf, scoring='r2', n_jobs=-1)\n",
    "    cv_results[name] = {\n",
    "        'mean_R2': float(round(scores.mean(), 4)),\n",
    "        'fold_R2': [float(round(s, 4)) for s in scores]\n",
    "    }\n",
    "print('Pipeline Cross_Val_Score Results (alpha=1)')\n",
    "cv_results"
   ]
  },
  {
   "cell_type": "code",
   "execution_count": 8,
   "id": "2609dbd4-b8fb-45be-ba06-c1c6c2956d84",
   "metadata": {},
   "outputs": [
    {
     "data": {
      "text/plain": [
       "'\\nridge = Ridge()\\nalpha_ridge_grid = np.linspace(1, 200, 100)\\n\\n# Setup Grid Search for Ridge\\nridge_grid = GridSearchCV(estimator=pipelines[\\'Ridge\\'],\\n                          param_grid={\\'regressor__alpha\\': alpha_ridge_grid},\\n                          verbose=1)\\nridge_grid.fit(X_scaled, Y_scaled)\\n\\n#Best alpha & score\\nprint(\\'\\nRidge Pipeline GridSearchCV Results\\n\\')\\nridge_best_alpha = ridge_grid.best_params_[\\'regressor__alpha\\']\\nridge_best_score = ridge_grid.best_score_\\nprint(f\"Best Alpha for Ridge: {ridge_best_alpha}\")\\nprint(f\"Best CV Score: {round(ridge_best_score, 4)}\")\\n'"
      ]
     },
     "execution_count": 8,
     "metadata": {},
     "output_type": "execute_result"
    }
   ],
   "source": [
    "#Ridge Regression- Optimal Alpha via GridSearchCV\n",
    "'''\n",
    "ridge = Ridge()\n",
    "alpha_ridge_grid = np.linspace(1, 200, 100)\n",
    "\n",
    "# Setup Grid Search for Ridge\n",
    "ridge_grid = GridSearchCV(estimator=pipelines['Ridge'],\n",
    "                          param_grid={'regressor__alpha': alpha_ridge_grid},\n",
    "                          verbose=1)\n",
    "ridge_grid.fit(X_scaled, Y_scaled)\n",
    " \n",
    "#Best alpha & score\n",
    "print('\\nRidge Pipeline GridSearchCV Results\\n')\n",
    "ridge_best_alpha = ridge_grid.best_params_['regressor__alpha']\n",
    "ridge_best_score = ridge_grid.best_score_\n",
    "print(f\"Best Alpha for Ridge: {ridge_best_alpha}\")\n",
    "print(f\"Best CV Score: {round(ridge_best_score, 4)}\")\n",
    "'''"
   ]
  },
  {
   "cell_type": "code",
   "execution_count": 9,
   "id": "1929b07d-b7e8-41b1-8fab-0868ac8a4d65",
   "metadata": {
    "scrolled": true
   },
   "outputs": [
    {
     "data": {
      "text/plain": [
       "'\\nridge_cv = RidgeCV(alphas=np.linspace(1, 1000, 100), cv=kf, scoring=\\'r2\\')\\nridge_cv.fit(X_scaled, Y_scaled)\\n\\nprint(\\'RidgeCV Results\\n\\')\\nalpha_opt_ridge = ridge_cv.alpha_\\nprint(f\"Optimal Ridge Alpha: {alpha_opt_ridge:.4f}\")\\n\\n#Fit Ridge with optimal alpha\\nridge.set_params(alpha=alpha_opt_ridge)\\nridge.fit(X_scaled, Y_scaled)\\n# Coefficients as a Series with feature names\\nridge_coefs = pd.Series(ridge.coef_, index=X_scaled.columns)\\nridge.score(X_scaled, Y_scaled)\\n\\n#Scoring & Coefficients\\ncv_score_ridge = cross_val_score(ridge, X_scaled, Y_scaled, cv=kf, scoring=\\'r2\\')\\nprint(f\"Mean R²: {cv_score_ridge.mean():.4f};  \", f\"Fold R² scores: {\\', \\'.join([f\\'{s:.4f}\\' for s in cv_score_ridge])}\")\\n\\nridge_coefs_formatted = ridge_coefs.sort_values(key=abs, ascending=False)\\npd.set_option(\\'display.float_format\\', lambda x: f\\'{x:.4f}\\')\\nprint(\"\\nTop 20 largest coefficients (by absolute value):\")\\nprint(ridge_coefs_formatted.head(20))\\n\\n#Zero Coefficients\\nzero_coefs_ridge = ridge_coefs[ridge_coefs == 0].index.tolist()\\nprint(f\"\\nNumber of features with zero coefficient: {len(zero_coefs_ridge)}\")\\nprint(\"Zero coefficient features:\")\\nprint(zero_coefs_ridge)\\n'"
      ]
     },
     "execution_count": 9,
     "metadata": {},
     "output_type": "execute_result"
    }
   ],
   "source": [
    "#Ridge Regression- Optimal Alpha via RidgeCV\n",
    "'''\n",
    "ridge_cv = RidgeCV(alphas=np.linspace(1, 1000, 100), cv=kf, scoring='r2')\n",
    "ridge_cv.fit(X_scaled, Y_scaled)\n",
    "\n",
    "print('RidgeCV Results\\n')\n",
    "alpha_opt_ridge = ridge_cv.alpha_\n",
    "print(f\"Optimal Ridge Alpha: {alpha_opt_ridge:.4f}\")\n",
    "\n",
    "#Fit Ridge with optimal alpha\n",
    "ridge.set_params(alpha=alpha_opt_ridge)\n",
    "ridge.fit(X_scaled, Y_scaled)\n",
    "# Coefficients as a Series with feature names\n",
    "ridge_coefs = pd.Series(ridge.coef_, index=X_scaled.columns)\n",
    "ridge.score(X_scaled, Y_scaled)\n",
    "\n",
    "#Scoring & Coefficients\n",
    "cv_score_ridge = cross_val_score(ridge, X_scaled, Y_scaled, cv=kf, scoring='r2')\n",
    "print(f\"Mean R²: {cv_score_ridge.mean():.4f};  \", f\"Fold R² scores: {', '.join([f'{s:.4f}' for s in cv_score_ridge])}\")\n",
    "\n",
    "ridge_coefs_formatted = ridge_coefs.sort_values(key=abs, ascending=False)\n",
    "pd.set_option('display.float_format', lambda x: f'{x:.4f}')\n",
    "print(\"\\nTop 20 largest coefficients (by absolute value):\")\n",
    "print(ridge_coefs_formatted.head(20))\n",
    "\n",
    "#Zero Coefficients\n",
    "zero_coefs_ridge = ridge_coefs[ridge_coefs == 0].index.tolist()\n",
    "print(f\"\\nNumber of features with zero coefficient: {len(zero_coefs_ridge)}\")\n",
    "print(\"Zero coefficient features:\")\n",
    "print(zero_coefs_ridge)\n",
    "'''"
   ]
  },
  {
   "cell_type": "code",
   "execution_count": 16,
   "id": "c1de94ad-f1b7-4b90-a233-d632539e5bdc",
   "metadata": {},
   "outputs": [
    {
     "name": "stdout",
     "output_type": "stream",
     "text": [
      "Fitting 5 folds for each of 100 candidates, totalling 500 fits\n",
      "\n",
      "Lasso Pipeline GridSearchCV Results\n",
      "\n",
      "Best Alpha for lasso: 281.818182\n",
      "Best CV Score 0.9161\n"
     ]
    }
   ],
   "source": [
    "#Lasso Regression- Optimal Alpha via GridSearchCV\n",
    "lasso = Lasso()\n",
    "alpha_lasso_grid = np.linspace(150, 300, 100)\n",
    " \n",
    "# Setup Grid Search for Ridge\n",
    "lasso_grid = GridSearchCV(estimator=pipelines['Lasso'],\n",
    "                          param_grid={'regressor__alpha': alpha_lasso_grid},\n",
    "                          verbose=1)\n",
    "lasso_grid.fit(X_scaled, Y_scaled)\n",
    "print('\\nLasso Pipeline GridSearchCV Results\\n')\n",
    "\n",
    "#Best alpha & score\n",
    "lasso_best_alpha = lasso_grid.best_params_['regressor__alpha']\n",
    "lasso_best_score = lasso_grid.best_score_\n",
    "print(f\"Best Alpha for lasso: {lasso_best_alpha:.6f}\")\n",
    "print(f\"Best CV Score {round(lasso_best_score, 4)}\")\n",
    "\n",
    "lasso_cv_results_df = pd.DataFrame(lasso_grid.cv_results_)\n",
    "lasso_best_row = lasso_cv_results_df.loc[lasso_cv_results_df['param_regressor__alpha'] == lasso_best_alpha]\n",
    "lasso_fold_scores = [lasso_best_row[f'split{i}_test_score'].values[0] for i in range(5)]\n",
    "lasso_results_df = pd.DataFrame({\n",
    "    'Engineering': ['Pre'],\n",
    "    'Model_Category': ['Penalized_MLR'],\n",
    "\t'Model_Scaling': ['X_Numeric, X_Categorical'],\n",
    "\t'Model': ['Lasso'],\n",
    "    'Alpha': [lasso_best_alpha],\n",
    "    'Mean_R²': [lasso_best_score],\n",
    "    **{f'Fold_{i+1}_R²': [lasso_fold_scores[i]] for i in range(5)}\n",
    "})"
   ]
  },
  {
   "cell_type": "code",
   "execution_count": 29,
   "id": "31552c2a-01e3-4025-840d-00699ee53097",
   "metadata": {},
   "outputs": [
    {
     "name": "stdout",
     "output_type": "stream",
     "text": [
      "LassoCV Results\n",
      "\n",
      "Optimal Lasso Alpha: 233.3333\n",
      "\n",
      "Mean R² Scores: 0.9071;   Fold R² scores: 0.8997, 0.9333, 0.8434, 0.9285, 0.9304\n",
      "\n",
      "Top 20 largest coefficients:\n",
      "GrLivArea               25841.8335939107\n",
      "YearBuilt                9204.5546206589\n",
      "OverallQual_8            8955.0619107594\n",
      "BsmtFinSF1               8144.4303571773\n",
      "OverallQual_7            6913.2053214350\n",
      "TotalBsmtSF              6653.9642813660\n",
      "OverallQual_9            6508.3724408799\n",
      "Condition2_PosN         -4591.9942230389\n",
      "Neighborhood_NoRidge     4532.6847605861\n",
      "Neighborhood_StoneBr     4386.9566462503\n",
      "LotArea                  4318.3694827937\n",
      "Neighborhood_Somerst     4317.7652148681\n",
      "BsmtQual_5               3886.7832616795\n",
      "Fireplaces               3562.9301419227\n",
      "SaleCondition_Partial    3539.8965860514\n",
      "Neighborhood_NridgHt     3426.2846110220\n",
      "BsmtExposure_4           3281.4804350486\n",
      "MasVnrArea               3225.0278478731\n",
      "ExterQual_3              3186.5739840040\n",
      "Neighborhood_Crawfor     3162.0888096254\n",
      "dtype: float64\n",
      "\n",
      "Number of features with Non-Zero coefficient: 177\n",
      "\n",
      "Number of features with Zero coefficient: 119\n",
      "Zero coefficient features:\n",
      "['1stFlrSF', '2ndFlrSF', 'BsmtHalfBath', 'BsmtUnfSF', 'GarageYrBlt', 'PoolArea', 'YrSold', 'Alley_Pave', 'BldgType_2fmCon', 'CentralAir_Y', 'Condition1_Feedr', 'Condition1_RRNe', 'Condition2_Norm', 'Condition2_RRAn', 'Exterior1st_AsphShn', 'Exterior1st_CemntBd', 'Exterior1st_Plywood', 'Exterior1st_VinylSd', 'Exterior1st_Wd Sdng', 'Exterior1st_WdShing', 'Exterior2nd_Brk Cmn', 'Exterior2nd_BrkFace', 'Exterior2nd_CBlock', 'Exterior2nd_HdBoard', 'Exterior2nd_MetalSd', 'Exterior2nd_Stone', 'Exterior2nd_Wd Sdng', 'Exterior2nd_Wd Shng', 'Foundation_Slab', 'GarageType_BuiltIn', 'GarageType_CarPort', 'GarageType_Detchd', 'Heating_GasA', 'Heating_GasW', 'Heating_Grav', 'HouseStyle_2.5Fin', 'HouseStyle_2.5Unf', 'HouseStyle_2Story', 'HouseStyle_SFoyer', 'HouseStyle_SLvl', 'LandContour_Low', 'LotConfig_Inside', 'MasVnrType_Stone', 'MiscFeature_No Misc Feature', 'MiscFeature_Othr', 'MiscFeature_Shed', 'MSSubClass_30', 'MSSubClass_45', 'MSSubClass_50', 'MSSubClass_60', 'MSSubClass_80', 'MSSubClass_85', 'MSZoning_FV', 'MSZoning_I (all)', 'MSZoning_RH', 'MSZoning_RM', 'Neighborhood_CollgCr', 'Neighborhood_Gilbert', 'Neighborhood_Greens', 'Neighborhood_IDOTRR', 'Neighborhood_Landmrk', 'Neighborhood_MeadowV', 'Neighborhood_Sawyer', 'Neighborhood_SawyerW', 'Neighborhood_Timber', 'Neighborhood_Veenker', 'RoofMatl_Roll', 'RoofMatl_Tar&Grv', 'RoofMatl_WdShake', 'RoofStyle_Gable', 'RoofStyle_Hip', 'RoofStyle_Shed', 'SaleCondition_AdjLand', 'SaleType_ConLD', 'SaleType_ConLI', 'SaleType_ConLw', 'SaleType_New', 'SaleType_VWD', 'SaleType_WD ', 'BsmtCond_3', 'BsmtCond_4', 'BsmtCond_5', 'BsmtExposure_3', 'BsmtFinType1_5', 'BsmtFinType2_1', 'BsmtFinType2_4', 'BsmtQual_1', 'BsmtQual_3', 'BsmtQual_4', 'Electrical_1', 'Electrical_2', 'Electrical_3', 'ExterCond_2', 'ExterCond_3', 'ExterQual_2', 'Fence_2', 'Fence_3', 'Fence_4', 'FireplaceQu_1', 'FireplaceQu_4', 'Functional_3', 'Functional_4', 'Functional_5', 'GarageCond_3', 'GarageFinish_1', 'GarageQual_1', 'GarageQual_2', 'HeatingQC_3', 'KitchenQual_3', 'LotShape_3', 'OverallCond_5', 'OverallQual_1', 'OverallQual_5', 'PavedDrive_1', 'PavedDrive_2', 'PoolQC_1', 'PoolQC_2', 'PoolQC_3', 'Utilities_1']\n"
     ]
    }
   ],
   "source": [
    "#Lasso Regression- Optimal Alpha via LassoCV\n",
    "lasso_cv = LassoCV(alphas=np.linspace(150, 300, 100), cv=kf, n_jobs=-1, max_iter=5000)\n",
    "lasso_cv.fit(X_scaled, Y_scaled)\n",
    "\n",
    "print('LassoCV Results\\n')\n",
    "alpha_opt_lasso = lasso_cv.alpha_\n",
    "print(f\"Optimal Lasso Alpha: {alpha_opt_lasso:.4f}\")\n",
    "\n",
    "#Fit Lasso with optimal alpha\n",
    "lasso = Lasso(alpha=alpha_opt_lasso, max_iter=5000)\n",
    "lasso.fit(X_scaled, Y_scaled)\n",
    "\n",
    "lasso_coefs = pd.Series(lasso.coef_, index=X_scaled.columns)\n",
    "lasso_coefs_formatted = lasso_coefs.sort_values(key=abs, ascending=False)\n",
    "pd.set_option('display.float_format', lambda x: f'{x:.10f}')\n",
    "\n",
    "#Scores & Coefficients\n",
    "cv_scores_lasso = cross_val_score(lasso, X_scaled, Y_scaled, cv=kf, scoring='r2')\n",
    "print(f\"\\nMean R² Scores: {cv_scores_lasso.mean():.4f};  \", f\"Fold R² scores: {', '.join([f'{s:.4f}' for s in cv_scores_lasso])}\")\n",
    "\n",
    "print(\"\\nTop 20 largest coefficients:\")\n",
    "print(lasso_coefs_formatted.head(20))\n",
    "\n",
    "#Zero Coefficients\n",
    "zero_coefs_lasso = lasso_coefs[lasso_coefs == 0].index.tolist()\n",
    "non_zero_coefs_lasso = lasso_coefs[~lasso_coefs.index.isin(zero_coefs_lasso)]\n",
    "print(f\"\\nNumber of features with Non-Zero coefficient: {len(non_zero_coefs_lasso)}\")\n",
    "print(f\"\\nNumber of features with Zero coefficient: {len(zero_coefs_lasso)}\")\n",
    "print(\"Zero coefficient features:\")\n",
    "print(zero_coefs_lasso)"
   ]
  },
  {
   "cell_type": "code",
   "execution_count": 39,
   "id": "b3fd9095-a2df-4bb7-bd8f-fdcded19801a",
   "metadata": {},
   "outputs": [
    {
     "name": "stdout",
     "output_type": "stream",
     "text": [
      "Fitting 5 folds for each of 2000 candidates, totalling 10000 fits\n",
      "\n",
      "ElasticNet Pipeline GridSearchCV Results\n",
      "\n",
      "Best Rho for ElasticNet: 1.0000\n",
      "Best Alpha for ElasticNet: 281.818182\n",
      "Best CV Score 0.9161\n"
     ]
    }
   ],
   "source": [
    "#ElasticNet Regression- Optimal Alpha via GridSearchCV\n",
    "l1_ratio = np.linspace(0.05, 1, 20)\n",
    "alpha_elastic_grid = np.linspace(200, 350, 100)\n",
    "\n",
    "#Setup Grid Search for Ridge\n",
    "elasticnet_grid = GridSearchCV(estimator=pipelines['ElasticNet'],\n",
    "                               param_grid={'regressor__alpha': alpha_elastic_grid,\n",
    "                                           'regressor__l1_ratio': l1_ratio},\n",
    "                               verbose=1)\n",
    "elasticnet_grid.fit(X_scaled, Y_scaled)\n",
    "\n",
    "\n",
    "print('\\nElasticNet Pipeline GridSearchCV Results\\n')\n",
    "\n",
    "#Best alpha & score\n",
    "elasticnet_best_rho = elasticnet_grid.best_params_['regressor__l1_ratio']\n",
    "elasticnet_best_alpha = elasticnet_grid.best_params_['regressor__alpha']\n",
    "elasticnet_best_score = elasticnet_grid.best_score_\n",
    "print(f\"Best Rho for ElasticNet: {elasticnet_best_rho:.4f}\")\n",
    "print(f\"Best Alpha for ElasticNet: {elasticnet_best_alpha:.6f}\")\n",
    "print(f\"Best CV Score {round(elasticnet_best_score, 4)}\")"
   ]
  },
  {
   "cell_type": "code",
   "execution_count": 37,
   "id": "677f0173-8755-49c9-93d9-1d820f5d5263",
   "metadata": {},
   "outputs": [
    {
     "name": "stdout",
     "output_type": "stream",
     "text": [
      "ElasticNetCV Results\n",
      "\n",
      "Optimal ElasticNet l1_ratio: 1.00\n",
      "Optimal ElasticNet Alpha: 282.8290\n",
      "Mean CV R²: 0.9070;   Fold R² scores: 0.8997, 0.9331, 0.8428, 0.9286, 0.9308\n",
      "\n",
      "Top 20 largest non-zero coefficients (abs, 4 decimals):\n",
      "GrLivArea               25870.3623\n",
      "YearBuilt                8998.7778\n",
      "OverallQual_8            8960.0450\n",
      "BsmtFinSF1               7937.8698\n",
      "OverallQual_7            6945.5436\n",
      "TotalBsmtSF              6787.1084\n",
      "OverallQual_9            6547.3435\n",
      "Condition2_PosN         -4527.7164\n",
      "Neighborhood_NoRidge     4474.2833\n",
      "Neighborhood_StoneBr     4290.8286\n",
      "Neighborhood_Somerst     4170.6844\n",
      "LotArea                  4138.4414\n",
      "BsmtQual_5               3943.0908\n",
      "Fireplaces               3556.6063\n",
      "SaleCondition_Partial    3434.4722\n",
      "Neighborhood_NridgHt     3332.2320\n",
      "BsmtExposure_4           3316.1914\n",
      "ExterQual_3              3223.9510\n",
      "Neighborhood_Crawfor     3184.5965\n",
      "MasVnrArea               3147.3182\n",
      "dtype: float64\n",
      "\n",
      "Number of features with Non-Zero coefficient: 162\n",
      "\n",
      "Number of features with Zero coefficient: 134\n",
      "Zero coefficient features:\n",
      "['1stFlrSF', '2ndFlrSF', 'BsmtHalfBath', 'BsmtUnfSF', 'GarageYrBlt', 'OpenPorchSF', 'PoolArea', 'YrSold', 'Alley_Pave', 'BldgType_2fmCon', 'CentralAir_Y', 'Condition1_Feedr', 'Condition1_RRNe', 'Condition2_Norm', 'Condition2_RRAn', 'Condition2_RRNn', 'Exterior1st_AsphShn', 'Exterior1st_CemntBd', 'Exterior1st_ImStucc', 'Exterior1st_Plywood', 'Exterior1st_VinylSd', 'Exterior1st_Wd Sdng', 'Exterior1st_WdShing', 'Exterior2nd_Brk Cmn', 'Exterior2nd_BrkFace', 'Exterior2nd_CBlock', 'Exterior2nd_HdBoard', 'Exterior2nd_ImStucc', 'Exterior2nd_MetalSd', 'Exterior2nd_Stone', 'Exterior2nd_Wd Sdng', 'Exterior2nd_Wd Shng', 'Foundation_Slab', 'GarageType_Attchd', 'GarageType_BuiltIn', 'GarageType_CarPort', 'GarageType_Detchd', 'Heating_GasA', 'Heating_GasW', 'Heating_Grav', 'Heating_Wall', 'HouseStyle_1Story', 'HouseStyle_2.5Fin', 'HouseStyle_2.5Unf', 'HouseStyle_2Story', 'HouseStyle_SFoyer', 'HouseStyle_SLvl', 'LandContour_Low', 'LotConfig_Inside', 'MasVnrType_Stone', 'MiscFeature_No Misc Feature', 'MiscFeature_Othr', 'MiscFeature_Shed', 'MSSubClass_30', 'MSSubClass_45', 'MSSubClass_50', 'MSSubClass_60', 'MSSubClass_70', 'MSSubClass_80', 'MSSubClass_85', 'MSSubClass_180', 'MSZoning_FV', 'MSZoning_I (all)', 'MSZoning_RH', 'MSZoning_RM', 'Neighborhood_CollgCr', 'Neighborhood_Gilbert', 'Neighborhood_Greens', 'Neighborhood_IDOTRR', 'Neighborhood_Landmrk', 'Neighborhood_MeadowV', 'Neighborhood_Sawyer', 'Neighborhood_SawyerW', 'Neighborhood_Timber', 'Neighborhood_Veenker', 'RoofMatl_Metal', 'RoofMatl_Roll', 'RoofMatl_Tar&Grv', 'RoofMatl_WdShake', 'RoofStyle_Gable', 'RoofStyle_Gambrel', 'RoofStyle_Hip', 'RoofStyle_Shed', 'SaleCondition_AdjLand', 'SaleType_ConLD', 'SaleType_ConLI', 'SaleType_ConLw', 'SaleType_New', 'SaleType_VWD', 'SaleType_WD ', 'BsmtCond_1', 'BsmtCond_3', 'BsmtCond_4', 'BsmtCond_5', 'BsmtExposure_3', 'BsmtFinType1_5', 'BsmtFinType2_1', 'BsmtFinType2_4', 'BsmtQual_1', 'BsmtQual_3', 'BsmtQual_4', 'Electrical_1', 'Electrical_2', 'Electrical_3', 'ExterCond_2', 'ExterCond_3', 'ExterCond_4', 'ExterQual_2', 'Fence_2', 'Fence_3', 'Fence_4', 'FireplaceQu_1', 'FireplaceQu_4', 'Functional_3', 'Functional_4', 'Functional_5', 'GarageCond_1', 'GarageCond_3', 'GarageFinish_1', 'GarageQual_1', 'GarageQual_2', 'HeatingQC_3', 'KitchenQual_3', 'LotShape_2', 'LotShape_3', 'OverallCond_5', 'OverallQual_1', 'OverallQual_5', 'PavedDrive_1', 'PavedDrive_2', 'PoolQC_1', 'PoolQC_2', 'PoolQC_3', 'Utilities_1']\n"
     ]
    }
   ],
   "source": [
    "#ElasticNet Regression- Optimal Alpha via ElasticNetCV\n",
    "elastic_cv = ElasticNetCV(\n",
    "    l1_ratio=np.linspace(0.05, 1, 20),\n",
    "    alphas=np.linspace(.001, 1000, 100),\n",
    "    cv=5, max_iter=5000, n_jobs=-1\n",
    ")\n",
    "elastic_cv.fit(X_scaled, Y_scaled)\n",
    "\n",
    "print('ElasticNetCV Results\\n')\n",
    "best_alpha_elastic = elastic_cv.alpha_\n",
    "best_l1_elastic = elastic_cv.l1_ratio_\n",
    "print(f\"Optimal ElasticNet l1_ratio: {best_l1_elastic:.2f}\")\n",
    "print(f\"Optimal ElasticNet Alpha: {best_alpha_elastic:.4f}\")\n",
    "\n",
    "\n",
    "#Build final ElasticNet model using best parameters\n",
    "final_en = ElasticNet(alpha=best_alpha_elastic, l1_ratio=best_l1_elastic, max_iter=10000)\n",
    "final_en.fit(X_scaled, Y_scaled)\n",
    "\n",
    "#Scires\n",
    "cv_scores_elasticnet = cross_val_score(final_en, X_scaled, Y_scaled, cv=kf, scoring='r2')\n",
    "print(f\"Mean CV R²: {cv_scores_elasticnet.mean():.4f};  \", f\"Fold R² scores: {', '.join([f'{s:.4f}' for s in cv_scores_elasticnet])}\\n\")\n",
    "\n",
    "#Coefficient Series\n",
    "coef_elastic = pd.Series(final_en.coef_, index=X_scaled.columns)\n",
    "zero_features_elastic = coef_elastic[coef_elastic == 0].index.tolist()\n",
    "nonzero_features_elastic = coef_elastic[coef_elastic != 0]\n",
    "\n",
    "top20_elastic = nonzero_features_elastic.reindex(nonzero_features_elastic.abs().sort_values(ascending=False).index).head(20)\n",
    "pd.set_option('display.float_format', lambda x: f'{x:.4f}')\n",
    "print(\"Top 20 largest non-zero coefficients (abs, 4 decimals):\")\n",
    "print(top20_elastic)\n",
    "\n",
    "#Zero Coefficients\n",
    "print(f\"\\nNumber of features with Non-Zero coefficient: {len(nonzero_features_elastic)}\")\n",
    "print(f\"\\nNumber of features with Zero coefficient: {len(zero_features_elastic)}\")\n",
    "print(\"Zero coefficient features:\")\n",
    "print(zero_features_elastic)"
   ]
  },
  {
   "cell_type": "code",
   "execution_count": 42,
   "id": "d4cdfbaa-1c69-4b1a-9a3d-b54f6243ceb5",
   "metadata": {},
   "outputs": [
    {
     "name": "stdout",
     "output_type": "stream",
     "text": [
      "Fitting 5 folds for each of 100 candidates, totalling 500 fits\n",
      "\n",
      "ElasticNet Pipeline GridSearchCV Results (Rho = .5)\n",
      "\n",
      "Best Rho for ElasticNet: 0.5000\n",
      "Best Alpha for ElasticNet: 0.160000\n",
      "Best CV Score 0.9154\n"
     ]
    }
   ],
   "source": [
    "#ElasticNet.5 Regression where Rho = .5- Optimal Alpha via GridSearchCV\n",
    "l1_ratio_5 = [.5]\n",
    "alpha_elastic5_grid = np.linspace(.01, 1, 100)\n",
    " \n",
    "#Setup Grid Search for Ridge\n",
    "elasticnet5_grid = GridSearchCV(estimator=pipelines['ElasticNet'],\n",
    "                               param_grid={'regressor__alpha': alpha_elastic5_grid,\n",
    "                                           'regressor__l1_ratio': l1_ratio_5},\n",
    "                               verbose=1)\n",
    "elasticnet5_grid.fit(X_scaled, Y_scaled)\n",
    "\n",
    "print('\\nElasticNet Pipeline GridSearchCV Results (Rho = .5)\\n')\n",
    "\n",
    "#Best alpha & score\n",
    "elasticnet5_best_rho = elasticnet5_grid.best_params_['regressor__l1_ratio']\n",
    "elasticnet5_best_alpha = elasticnet5_grid.best_params_['regressor__alpha']\n",
    "elasticnet5_best_score = elasticnet5_grid.best_score_\n",
    "print(f\"Best Rho for ElasticNet: {elasticnet5_best_rho:.4f}\")\n",
    "print(f\"Best Alpha for ElasticNet: {elasticnet5_best_alpha:.6f}\")\n",
    "print(f\"Best CV Score {round(elasticnet5_best_score, 4)}\")"
   ]
  },
  {
   "cell_type": "code",
   "execution_count": 41,
   "id": "459f405b-f035-4acb-9811-eb2879e40a45",
   "metadata": {},
   "outputs": [
    {
     "name": "stdout",
     "output_type": "stream",
     "text": [
      "ElasticNetCV Results (Rho = .5)\n",
      "\n",
      "Optimal ElasticNet.5 l1_ratio: 0.50\n",
      "Optimal ElasticNet.5 Alpha: 0.1708\n",
      "Mean CV R²: 0.9060;   Fold R² scores: 0.8994, 0.9303, 0.8491, 0.9233, 0.9278\n",
      "\n",
      "Top 20 largest non-zero coefficients (abs, 4 decimals):\n",
      "GrLivArea              11188.2996\n",
      "TotalBsmtSF             7281.9911\n",
      "1stFlrSF                7026.9246\n",
      "BsmtFinSF1              6902.2835\n",
      "OverallQual_8           6768.0131\n",
      "2ndFlrSF                6694.8054\n",
      "OverallQual_9           5216.9920\n",
      "YearBuilt               5112.6371\n",
      "LotArea                 4534.1325\n",
      "Neighborhood_NoRidge    4505.6109\n",
      "OverallQual_7           4491.5422\n",
      "Neighborhood_StoneBr    4211.6765\n",
      "Fireplaces              4165.7695\n",
      "Condition2_PosN        -3969.5079\n",
      "MasVnrArea              3924.8683\n",
      "BsmtExposure_4          3525.2195\n",
      "BsmtQual_5              3524.4313\n",
      "Neighborhood_Somerst    3372.6825\n",
      "ExterQual_3             3254.7440\n",
      "OverallQual_4          -3232.0272\n",
      "dtype: float64\n",
      "\n",
      "Number of features with Non-Zero coefficient: 296\n",
      "\n",
      "Number of features with Zero coefficient: 0\n",
      "Zero coefficient features:\n",
      "[]\n"
     ]
    }
   ],
   "source": [
    "#ElasticNetCV where Rho = .5\n",
    "elastic5_cv = ElasticNetCV(\n",
    "    l1_ratio=.5,\n",
    "    alphas=np.linspace(.01, 2, 100),\n",
    "    cv=5,\n",
    "    max_iter=5000,\n",
    "    n_jobs=-1\n",
    ")\n",
    "elastic5_cv.fit(X_scaled, Y_scaled)\n",
    "\n",
    "print('ElasticNetCV Results (Rho = .5)\\n')\n",
    "best_alpha_elastic5 = elastic5_cv.alpha_\n",
    "best_l1_elastic5 = elastic5_cv.l1_ratio_\n",
    "print(f\"Optimal ElasticNet.5 l1_ratio: {best_l1_elastic5:.2f}\")\n",
    "print(f\"Optimal ElasticNet.5 Alpha: {best_alpha_elastic5:.4f}\")\n",
    "\n",
    "#Build final ElasticNet model using best parameters\n",
    "final_en = ElasticNet(alpha=best_alpha_elastic5, l1_ratio=best_l1_elastic5, max_iter=10000)\n",
    "final_en.fit(X_scaled, Y_scaled)  #Fit final model\n",
    "\n",
    "#Scores\n",
    "cv_scores_elasticnet5 = cross_val_score(final_en, X_scaled, Y_scaled, cv=kf, scoring='r2')\n",
    "print(f\"Mean CV R²: {cv_scores_elasticnet5.mean():.4f};  \", f\"Fold R² scores: {', '.join([f'{s:.4f}' for s in cv_scores_elasticnet5])}\\n\")\n",
    "\n",
    "#Coefficients as a Series\n",
    "coef_elastic5 = pd.Series(final_en.coef_, index=X_scaled.columns)\n",
    "\n",
    "#Summary of coefficients\n",
    "zero_features_elastic5 = coef_elastic5[coef_elastic5 == 0].index.tolist()\n",
    "nonzero_features_elastic5 = coef_elastic5[coef_elastic5 != 0]\n",
    "\n",
    "top20_elastic5 = nonzero_features_elastic5.reindex(nonzero_features_elastic5.abs().sort_values(ascending=False).index).head(20)\n",
    "pd.set_option('display.float_format', lambda x: f'{x:.4f}')\n",
    "print(\"Top 20 largest non-zero coefficients (abs, 4 decimals):\")\n",
    "print(top20_elastic5)\n",
    "\n",
    "#Zero coefficients\n",
    "print(f\"\\nNumber of features with Non-Zero coefficient: {len(nonzero_features_elastic5)}\")\n",
    "print(f\"\\nNumber of features with Zero coefficient: {len(zero_features_elastic5)}\")\n",
    "print(\"Zero coefficient features:\")\n",
    "print(zero_features_elastic5)"
   ]
  },
  {
   "cell_type": "code",
   "execution_count": 43,
   "id": "8a17410a-78a0-4397-90d0-a62d6fc11ead",
   "metadata": {},
   "outputs": [
    {
     "name": "stdout",
     "output_type": "stream",
     "text": [
      "Pipeline Cross_Val_Score Results (Optimal Alpha)\n"
     ]
    },
    {
     "data": {
      "text/plain": [
       "{'Ridge': {'mean_R2': 0.906,\n",
       "  'fold_R2': [0.8995, 0.9304, 0.8489, 0.9234, 0.9278]},\n",
       " 'Lasso': {'mean_R2': 0.9069,\n",
       "  'fold_R2': [0.8997, 0.933, 0.8429, 0.9284, 0.9308]},\n",
       " 'ElasticNet': {'mean_R2': 0.906,\n",
       "  'fold_R2': [0.8995, 0.9304, 0.8489, 0.9235, 0.9278]}}"
      ]
     },
     "execution_count": 43,
     "metadata": {},
     "output_type": "execute_result"
    }
   ],
   "source": [
    "#Set optimal hyperparameters\n",
    "pipelines['Ridge'].set_params(regressor__alpha=ridge_best_alpha)\n",
    "pipelines['Lasso'].set_params(regressor__alpha=lasso_best_alpha)\n",
    "pipelines['ElasticNet'].set_params(regressor__alpha=elasticnet5_best_alpha, regressor__l1_ratio=0.5)\n",
    "\n",
    "#Cross-validation\n",
    "cv_results = {}\n",
    "for name, pipeline in pipelines.items():\n",
    "    scores = cross_val_score(pipeline, X_scaled, Y_scaled, cv=kf, scoring='r2', n_jobs=-1)\n",
    "    cv_results[name] = {\n",
    "        'mean_R2': float(round(scores.mean(), 4)),\n",
    "        'fold_R2': [float(round(s, 4)) for s in scores]\n",
    "    }\n",
    "print('Pipeline Cross_Val_Score Results (Optimal Alpha)')\n",
    "cv_results"
   ]
  },
  {
   "cell_type": "code",
   "execution_count": 17,
   "id": "c5ccca89-c6e8-40a8-aab5-18cd889bcf7b",
   "metadata": {},
   "outputs": [
    {
     "data": {
      "text/html": [
       "<div>\n",
       "<style scoped>\n",
       "    .dataframe tbody tr th:only-of-type {\n",
       "        vertical-align: middle;\n",
       "    }\n",
       "\n",
       "    .dataframe tbody tr th {\n",
       "        vertical-align: top;\n",
       "    }\n",
       "\n",
       "    .dataframe thead th {\n",
       "        text-align: right;\n",
       "    }\n",
       "</style>\n",
       "<table border=\"1\" class=\"dataframe\">\n",
       "  <thead>\n",
       "    <tr style=\"text-align: right;\">\n",
       "      <th></th>\n",
       "      <th>Engineering</th>\n",
       "      <th>Model_Category</th>\n",
       "      <th>Model_Scaling</th>\n",
       "      <th>Model</th>\n",
       "      <th>Alpha</th>\n",
       "      <th>Mean_R²</th>\n",
       "      <th>Fold_1_R²</th>\n",
       "      <th>Fold_2_R²</th>\n",
       "      <th>Fold_3_R²</th>\n",
       "      <th>Fold_4_R²</th>\n",
       "      <th>Fold_5_R²</th>\n",
       "    </tr>\n",
       "  </thead>\n",
       "  <tbody>\n",
       "    <tr>\n",
       "      <th>0</th>\n",
       "      <td>Pre</td>\n",
       "      <td>Penalized_MLR</td>\n",
       "      <td>X_Numeric, X_Categorical</td>\n",
       "      <td>Lasso</td>\n",
       "      <td>282</td>\n",
       "      <td>1</td>\n",
       "      <td>1</td>\n",
       "      <td>1</td>\n",
       "      <td>1</td>\n",
       "      <td>1</td>\n",
       "      <td>1</td>\n",
       "    </tr>\n",
       "  </tbody>\n",
       "</table>\n",
       "</div>"
      ],
      "text/plain": [
       "  Engineering Model_Category             Model_Scaling  Model  Alpha  Mean_R²  \\\n",
       "0         Pre  Penalized_MLR  X_Numeric, X_Categorical  Lasso    282        1   \n",
       "\n",
       "   Fold_1_R²  Fold_2_R²  Fold_3_R²  Fold_4_R²  Fold_5_R²  \n",
       "0          1          1          1          1          1  "
      ]
     },
     "execution_count": 17,
     "metadata": {},
     "output_type": "execute_result"
    }
   ],
   "source": [
    "lasso_results_df"
   ]
  },
  {
   "cell_type": "code",
   "execution_count": 18,
   "id": "6568959f-87df-42c0-99b7-b0c26723088b",
   "metadata": {},
   "outputs": [],
   "source": [
    "lasso_results_df.to_csv('Penalized_MLR_Scaling_XNumeric_XCategorical.csv', index=False)"
   ]
  }
 ],
 "metadata": {
  "kernelspec": {
   "display_name": "Python 3 (ipykernel)",
   "language": "python",
   "name": "python3"
  },
  "language_info": {
   "codemirror_mode": {
    "name": "ipython",
    "version": 3
   },
   "file_extension": ".py",
   "mimetype": "text/x-python",
   "name": "python",
   "nbconvert_exporter": "python",
   "pygments_lexer": "ipython3",
   "version": "3.13.7"
  }
 },
 "nbformat": 4,
 "nbformat_minor": 5
}
